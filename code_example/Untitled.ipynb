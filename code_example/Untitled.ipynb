{
 "cells": [
  {
   "cell_type": "code",
   "execution_count": 1,
   "id": "6b75d091-e35f-4e49-895b-be2f9d2f0e38",
   "metadata": {},
   "outputs": [],
   "source": [
    "#### 의사결정나무\n",
    "# 여러 규식을 순차적 적용\n",
    "# 독립 변수 공간을 분할하는 분류 모델\n",
    "# *분류와 회귀 활용"
   ]
  },
  {
   "cell_type": "code",
   "execution_count": 2,
   "id": "a1388c18-6592-4aac-810a-576a799fdf30",
   "metadata": {},
   "outputs": [],
   "source": [
    "# 하나의 독립변수를 선택하고 기준값 설정 = 분류규칙\n",
    "# 독립변수보다 작은 값 큰 값을 나누고, 하나의 노드만 남을 때까지 반복 실행"
   ]
  },
  {
   "cell_type": "code",
   "execution_count": 5,
   "id": "2ee3979b-37cc-43d3-add8-3aad65223beb",
   "metadata": {},
   "outputs": [],
   "source": [
    "from sklearn.datasets import load_iris"
   ]
  },
  {
   "cell_type": "code",
   "execution_count": 6,
   "id": "e3ab5e1e-b86d-47a0-9084-f7d47c644cfb",
   "metadata": {},
   "outputs": [],
   "source": [
    "data = load_iris()\n",
    "y = data.target\n",
    "X = data.data[:, 2:]\n",
    "feature_names = data.feature_names[2:]\n",
    "\n",
    "from sklearn.tree import DecisionTreeClassifier\n",
    "\n",
    "tree1 = DecisionTreeClassifier(criterion='entropy', max_depth=1, random_state=0).fit(X, y)"
   ]
  },
  {
   "cell_type": "code",
   "execution_count": null,
   "id": "24fd2932-0192-4196-88a6-54f9f54ef39b",
   "metadata": {},
   "outputs": [],
   "source": []
  }
 ],
 "metadata": {
  "kernelspec": {
   "display_name": "Python 3 (ipykernel)",
   "language": "python",
   "name": "python3"
  },
  "language_info": {
   "codemirror_mode": {
    "name": "ipython",
    "version": 3
   },
   "file_extension": ".py",
   "mimetype": "text/x-python",
   "name": "python",
   "nbconvert_exporter": "python",
   "pygments_lexer": "ipython3",
   "version": "3.9.12"
  }
 },
 "nbformat": 4,
 "nbformat_minor": 5
}
