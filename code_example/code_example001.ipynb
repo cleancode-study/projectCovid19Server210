{
 "cells": [
  {
   "cell_type": "code",
   "execution_count": 26,
   "id": "8c03354b-8287-43ca-b505-694a36cd7b55",
   "metadata": {},
   "outputs": [],
   "source": [
    "### 자료형\n",
    "## 배열(array) : numpy\n",
    "## 리스트(list) : [] : java(arraylist)\n",
    "## 튜플(tuple) : () : 고정값 리스트 : java(고정배열)\n",
    "## 세트(set) : {} : 인덱스와 중복이 없는 리스트\n",
    "## 딕셔너리(dictionary) : {} : java(map)\n",
    "\n",
    "## list to series : pandas.Series(arrayLIST or DICTIONALRY)\n",
    "\n",
    "# Series : 1차원 pandas 타입\n",
    "# dataframe : 2차원 pandas 타입"
   ]
  },
  {
   "cell_type": "code",
   "execution_count": 5,
   "id": "417098a7-5ed4-4e4c-953d-9f8ac1044151",
   "metadata": {},
   "outputs": [],
   "source": [
    "import pandas as pd"
   ]
  },
  {
   "cell_type": "code",
   "execution_count": 27,
   "id": "6c482607-76f2-4799-80bc-32fb31941971",
   "metadata": {},
   "outputs": [
    {
     "name": "stdout",
     "output_type": "stream",
     "text": [
      "[10, 30, 20, 40]\n",
      "0    10\n",
      "1    30\n",
      "2    20\n",
      "3    40\n",
      "dtype: int64\n",
      "1번    10\n",
      "2번    20\n",
      "3번    30\n",
      "dtype: int64\n"
     ]
    }
   ],
   "source": [
    "list_example = [10, 30, 20, 40] # list : pd.Series(list_example, index = pd.index(INDEX_ARRAY))\n",
    "print(list_example)\n",
    "dictionary_example = {'1번' : 10, '2번' : 20, '3번' : 30}\n",
    "\n",
    "list_pd = pd.Series(list_example)\n",
    "dictionary_pd = pd.Series(dictionary_example)\n",
    "print(list_pd)\n",
    "print(dictionary_pd)"
   ]
  },
  {
   "cell_type": "code",
   "execution_count": 30,
   "id": "95ef946d-d957-42fa-a1a9-1bc3aa515bc3",
   "metadata": {},
   "outputs": [],
   "source": [
    "list1_example = ['가', '나', '다']\n",
    "dictionary1_example = {'1번':[123,412,123], '2번':[342,23,123]}\n",
    "\n",
    "list_pd1 = pd.DataFrame([list_example, list1_example])\n",
    "list_pd2 = pd.DataFrame(zip(list_example, list1_example))\n",
    "dictionary_pd1 = pd.DataFrame(dictionary1_example)"
   ]
  },
  {
   "cell_type": "code",
   "execution_count": 33,
   "id": "c26da4b7-f719-49cb-87d3-19efd862cbf0",
   "metadata": {},
   "outputs": [],
   "source": [
    "#### 데이터 프레임 결측치\n",
    "# 1. csv 데이터 dataframe으로 바꾸고, 내장 타입(list, dictionary)으로 형 변환 테스트\n",
    "# 2. csv 데이터를 datafram1, datafram2 등 쪼개서 관리하는 코드(함수)를 작성하시오\n",
    "# def pandas_table_section(dataframe_var1):\n",
    "#     pd1 = pd.\"특정 컬럼 데이터만 가져오는 함수\"(dataframe_var1)\n",
    "#     return pd1\n"
   ]
  },
  {
   "cell_type": "code",
   "execution_count": null,
   "id": "1538fb0b-9660-4843-98ce-225ef9e7320c",
   "metadata": {},
   "outputs": [],
   "source": []
  }
 ],
 "metadata": {
  "kernelspec": {
   "display_name": "Python 3 (ipykernel)",
   "language": "python",
   "name": "python3"
  },
  "language_info": {
   "codemirror_mode": {
    "name": "ipython",
    "version": 3
   },
   "file_extension": ".py",
   "mimetype": "text/x-python",
   "name": "python",
   "nbconvert_exporter": "python",
   "pygments_lexer": "ipython3",
   "version": "3.9.12"
  }
 },
 "nbformat": 4,
 "nbformat_minor": 5
}
